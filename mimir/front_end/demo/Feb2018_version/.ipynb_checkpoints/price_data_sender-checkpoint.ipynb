{
 "cells": [
  {
   "cell_type": "markdown",
   "metadata": {},
   "source": [
    "### price data to mongodb"
   ]
  },
  {
   "cell_type": "code",
   "execution_count": 18,
   "metadata": {
    "collapsed": true
   },
   "outputs": [],
   "source": [
    "## Code Info\n",
    "# Version: 2018-03-10\n",
    "# Data info: daily OHLC Bitcoin (USD) Price\n",
    "# Data source: download from https://www.coindesk.com/price/"
   ]
  },
  {
   "cell_type": "code",
   "execution_count": 1,
   "metadata": {},
   "outputs": [
    {
     "name": "stderr",
     "output_type": "stream",
     "text": [
      "/anaconda3/lib/python3.6/site-packages/ipykernel/__main__.py:18: FutureWarning: set_value is deprecated and will be removed in a future release. Please use .at[] or .iat[] accessors instead\n"
     ]
    },
    {
     "name": "stdout",
     "output_type": "stream",
     "text": [
      "Database Updated\n"
     ]
    }
   ],
   "source": [
    "import json\n",
    "import pymongo\n",
    "import pandas as pd\n",
    "import datetime\n",
    "from dateutil.relativedelta import relativedelta\n",
    "from pymongo import MongoClient\n",
    "# Read data\n",
    "csv_path = './coindesk-bpi-USD-ohlc_data-2013-01-01_2018-07-02.csv'\n",
    "df = pd.read_csv(csv_path)\n",
    "\n",
    "# Remove last 2 rows which isnt required\n",
    "# df = df.drop(df.index[[-1,-2]])\n",
    "\n",
    "\n",
    "# Modify date format to datetime\n",
    "for index, row in df.iterrows():\n",
    "    x = datetime.datetime.strptime(row['Date'], '%Y/%m/%d %H:%M')\n",
    "    df.set_value(index, 'Date', x)\n",
    "\n",
    "# Send to DB\n",
    "_list = []\n",
    "for index, row in df.iterrows():\n",
    "    temp = {\n",
    "        \"Date\": row['Date'],\n",
    "        \"Open\": row['Open'],\n",
    "        \"High\": row['High'],\n",
    "        \"Low\": row['Low'],\n",
    "        \"Close\": row['Close']\n",
    "    }\n",
    "    _list.append(temp)\n",
    "    \n",
    "# import urllib.parse\n",
    "# username = urllib.parse.quote_plus('root')\n",
    "# password = urllib.parse.quote_plus('')\n",
    "# client = MongoClient('mongodb://%s:%s@140.112.145.148:26666' % (username, password))\n",
    "# db = client.BTC_PRICE_DB\n",
    "\n",
    "client = MongoClient('mongodb://localhost:27017/')\n",
    "db = client.BTC_PRICE_DB\n",
    "for _ in _list:\n",
    "    db.BTC_COINDESK_DAILY_PRICE_COLLECTION.insert_one(_)\n",
    "print('Database Updated')"
   ]
  },
  {
   "cell_type": "code",
   "execution_count": 1,
   "metadata": {},
   "outputs": [
    {
     "ename": "NameError",
     "evalue": "name 'df' is not defined",
     "output_type": "error",
     "traceback": [
      "\u001b[0;31m---------------------------------------------------------------------------\u001b[0m",
      "\u001b[0;31mNameError\u001b[0m                                 Traceback (most recent call last)",
      "\u001b[0;32m<ipython-input-1-dfd2a9b66af3>\u001b[0m in \u001b[0;36m<module>\u001b[0;34m()\u001b[0m\n\u001b[0;32m----> 1\u001b[0;31m \u001b[0mdf\u001b[0m\u001b[0;34m.\u001b[0m\u001b[0mhead\u001b[0m\u001b[0;34m(\u001b[0m\u001b[0;36m2\u001b[0m\u001b[0;34m)\u001b[0m\u001b[0;34m\u001b[0m\u001b[0m\n\u001b[0m",
      "\u001b[0;31mNameError\u001b[0m: name 'df' is not defined"
     ]
    }
   ],
   "source": [
    "df.head(2)"
   ]
  },
  {
   "cell_type": "code",
   "execution_count": null,
   "metadata": {
    "collapsed": true
   },
   "outputs": [],
   "source": []
  }
 ],
 "metadata": {
  "kernelspec": {
   "display_name": "Python [default]",
   "language": "python",
   "name": "python3"
  },
  "language_info": {
   "codemirror_mode": {
    "name": "ipython",
    "version": 3
   },
   "file_extension": ".py",
   "mimetype": "text/x-python",
   "name": "python",
   "nbconvert_exporter": "python",
   "pygments_lexer": "ipython3",
   "version": "3.6.5"
  }
 },
 "nbformat": 4,
 "nbformat_minor": 2
}
